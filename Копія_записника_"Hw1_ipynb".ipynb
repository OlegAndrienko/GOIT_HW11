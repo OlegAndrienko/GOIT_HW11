{
  "nbformat": 4,
  "nbformat_minor": 0,
  "metadata": {
    "colab": {
      "provenance": [],
      "toc_visible": true,
      "authorship_tag": "ABX9TyOA7HYlaRk7Jcz2YXCkN6lD",
      "include_colab_link": true
    },
    "kernelspec": {
      "name": "python3",
      "display_name": "Python 3"
    },
    "language_info": {
      "name": "python"
    }
  },
  "cells": [
    {
      "cell_type": "markdown",
      "metadata": {
        "id": "view-in-github",
        "colab_type": "text"
      },
      "source": [
        "<a href=\"https://colab.research.google.com/github/OlegAndrienko/GOIT_HW11/blob/main/%D0%9A%D0%BE%D0%BF%D1%96%D1%8F_%D0%B7%D0%B0%D0%BF%D0%B8%D1%81%D0%BD%D0%B8%D0%BA%D0%B0_%22Hw1_ipynb%22.ipynb\" target=\"_parent\"><img src=\"https://colab.research.google.com/assets/colab-badge.svg\" alt=\"Open In Colab\"/></a>"
      ]
    },
    {
      "cell_type": "code",
      "execution_count": 1,
      "metadata": {
        "id": "R7AiXgrDpt1i"
      },
      "outputs": [],
      "source": [
        "import numpy as np"
      ]
    },
    {
      "cell_type": "markdown",
      "source": [
        "# 1. Створіть одновимірний масив (вектор) з першими 10-ма натуральними числами та виведіть його значення.\n"
      ],
      "metadata": {
        "id": "Una4KUmpqQEc"
      }
    },
    {
      "cell_type": "code",
      "source": [
        "v = np.arange(0, 10)"
      ],
      "metadata": {
        "id": "I85qbFwGqJDk"
      },
      "execution_count": 3,
      "outputs": []
    },
    {
      "cell_type": "code",
      "source": [
        "print(v)"
      ],
      "metadata": {
        "colab": {
          "base_uri": "https://localhost:8080/"
        },
        "id": "NGZ69mTUrCjh",
        "outputId": "f3ea2912-5650-47d5-dce5-f4c465241d10"
      },
      "execution_count": 4,
      "outputs": [
        {
          "output_type": "stream",
          "name": "stdout",
          "text": [
            "[0 1 2 3 4 5 6 7 8 9]\n"
          ]
        }
      ]
    },
    {
      "cell_type": "markdown",
      "source": [
        "# 2. Створіть двовимірний масив (матрицю) розміром 3x3, заповніть його нулями та виведіть його значення."
      ],
      "metadata": {
        "id": "CRnYIBFYrLWL"
      }
    },
    {
      "cell_type": "code",
      "source": [
        "A = np.zeros((3, 3))\n",
        "print(A)"
      ],
      "metadata": {
        "colab": {
          "base_uri": "https://localhost:8080/"
        },
        "id": "OhoBPYxtrW6E",
        "outputId": "f25c37a5-1bf3-43b4-bd54-616643f3a0bf"
      },
      "execution_count": 5,
      "outputs": [
        {
          "output_type": "stream",
          "name": "stdout",
          "text": [
            "[[0. 0. 0.]\n",
            " [0. 0. 0.]\n",
            " [0. 0. 0.]]\n"
          ]
        }
      ]
    },
    {
      "cell_type": "markdown",
      "source": [
        "# 3. Створіть масив розміром 5x5, заповніть його випадковими цілими числами в діапазоні від 1 до 10 та виведіть його значення."
      ],
      "metadata": {
        "id": "HTkBIVbgr4i7"
      }
    },
    {
      "cell_type": "code",
      "source": [
        "B = np.random.randint(1, 10, (5, 5))\n",
        "print(B)"
      ],
      "metadata": {
        "colab": {
          "base_uri": "https://localhost:8080/"
        },
        "id": "16MBn7bUsAwQ",
        "outputId": "4e727fe2-84b9-45c6-f5b9-ef688dc27e40"
      },
      "execution_count": 6,
      "outputs": [
        {
          "output_type": "stream",
          "name": "stdout",
          "text": [
            "[[2 5 1 5 2]\n",
            " [8 8 2 4 4]\n",
            " [8 6 3 3 1]\n",
            " [1 7 8 1 6]\n",
            " [7 4 4 8 4]]\n"
          ]
        }
      ]
    },
    {
      "cell_type": "markdown",
      "source": [
        "# 4. Створіть масив розміром 4x4, заповніть його випадковими дійсними числами в діапазоні від 0 до 1 та виведіть його значення.\n",
        "\n"
      ],
      "metadata": {
        "id": "dJgUa87-tHoF"
      }
    },
    {
      "cell_type": "code",
      "source": [
        "C = np.random.random((4, 4))\n",
        "print(C)"
      ],
      "metadata": {
        "colab": {
          "base_uri": "https://localhost:8080/"
        },
        "id": "i0pVCxuKtQEr",
        "outputId": "a4f67cff-58d6-4667-8dd8-55a5fd6c66dc"
      },
      "execution_count": 7,
      "outputs": [
        {
          "output_type": "stream",
          "name": "stdout",
          "text": [
            "[[0.42631236 0.12328244 0.06517504 0.40559089]\n",
            " [0.75969914 0.98717608 0.95325856 0.22552441]\n",
            " [0.34078684 0.20040285 0.32683264 0.41992701]\n",
            " [0.75349983 0.99239165 0.32411456 0.65412312]]\n"
          ]
        }
      ]
    },
    {
      "cell_type": "markdown",
      "source": [
        "# 5. Створіть два одновимірних масиви розміром 5, заповніть їх випадковими цілими числами в діапазоні від 1 до 10 та виконайте на них поелементні операції додавання, віднімання та множення."
      ],
      "metadata": {
        "id": "BrNV4OIkttSk"
      }
    },
    {
      "cell_type": "code",
      "source": [
        "D = np.random.randint(1, 10, 5)\n",
        "E = np.random.randint(1, 10, 5)\n",
        "print(D)\n",
        "print(E)\n",
        "print(D+E)\n",
        "print(D-E)\n",
        "print(D*E)"
      ],
      "metadata": {
        "colab": {
          "base_uri": "https://localhost:8080/"
        },
        "id": "I9dlbOk-t0_M",
        "outputId": "5abab8e5-f270-41eb-c3b0-6d05ba0a281b"
      },
      "execution_count": 8,
      "outputs": [
        {
          "output_type": "stream",
          "name": "stdout",
          "text": [
            "[3 7 2 2 2]\n",
            "[8 9 2 3 6]\n",
            "[11 16  4  5  8]\n",
            "[-5 -2  0 -1 -4]\n",
            "[24 63  4  6 12]\n"
          ]
        }
      ]
    },
    {
      "cell_type": "markdown",
      "source": [
        "# 6. Створіть два вектори розміром 7, заповніть довільними числами та знайдіть їх скалярний добуток."
      ],
      "metadata": {
        "id": "AFEaiwm0vBab"
      }
    },
    {
      "cell_type": "code",
      "source": [
        "F = np.random.randint(1, 10, 7)\n",
        "G = np.random.randint(1, 10, 7)\n",
        "print(F)\n",
        "print(G)\n",
        "print(np.dot(F, G))"
      ],
      "metadata": {
        "colab": {
          "base_uri": "https://localhost:8080/"
        },
        "id": "TmPdsazSvIkJ",
        "outputId": "3225c600-ba96-44fc-e141-90781b937314"
      },
      "execution_count": 9,
      "outputs": [
        {
          "output_type": "stream",
          "name": "stdout",
          "text": [
            "[5 3 2 1 4 6 2]\n",
            "[8 4 7 6 8 8 5]\n",
            "162\n"
          ]
        }
      ]
    },
    {
      "cell_type": "markdown",
      "source": [
        "# 7.Створіть дві матриці розміром 2x2 та 2x3, заповніть їх випадковими цілими числами в діапазоні від 1 до 10 та перемножте їх між собою.\n",
        "\n"
      ],
      "metadata": {
        "id": "FM67LsHpvu3g"
      }
    },
    {
      "cell_type": "code",
      "source": [
        "H = np.random.randint(1, 10, (2, 2)) # 1-10, 2x2\n",
        "I = np.random.randint(1, 10, (2, 3)) # 1-10, 2x3\n",
        "print(H)\n",
        "print(I)\n",
        "print(np.dot(H, I))"
      ],
      "metadata": {
        "colab": {
          "base_uri": "https://localhost:8080/"
        },
        "id": "Y1HTfj4Sv5vl",
        "outputId": "5af3191c-f769-4d7c-8ed3-7d5dc6b61bea"
      },
      "execution_count": 12,
      "outputs": [
        {
          "output_type": "stream",
          "name": "stdout",
          "text": [
            "[[3 7]\n",
            " [2 8]]\n",
            "[[5 3 8]\n",
            " [6 7 2]]\n",
            "[[57 58 38]\n",
            " [58 62 32]]\n"
          ]
        }
      ]
    },
    {
      "cell_type": "markdown",
      "source": [
        "# 8.Створіть матрицю розміром 3x3, заповніть її випадковими цілими числами в діапазоні від 1 до 10 та знайдіть її обернену матрицю."
      ],
      "metadata": {
        "id": "ywuFrbENzPnh"
      }
    },
    {
      "cell_type": "code",
      "source": [
        "J = np.random.randint(1, 10, (3, 3))\n",
        "print(J)\n",
        "print(np.linalg.inv(J))"
      ],
      "metadata": {
        "colab": {
          "base_uri": "https://localhost:8080/"
        },
        "id": "elOP_I68zayi",
        "outputId": "3e57b1f3-74b4-4c48-95a3-7a0530de7175"
      },
      "execution_count": 13,
      "outputs": [
        {
          "output_type": "stream",
          "name": "stdout",
          "text": [
            "[[3 9 6]\n",
            " [8 1 2]\n",
            " [2 2 5]]\n",
            "[[-0.00421941  0.13924051 -0.05063291]\n",
            " [ 0.15189873 -0.01265823 -0.17721519]\n",
            " [-0.05907173 -0.05063291  0.29113924]]\n"
          ]
        }
      ]
    },
    {
      "cell_type": "markdown",
      "source": [
        "# 9. Створіть матрицю розміром 4x4, заповніть її випадковими дійсними числами в діапазоні від 0 до 1 та транспонуйте її."
      ],
      "metadata": {
        "id": "LcX9vIKNz6bI"
      }
    },
    {
      "cell_type": "code",
      "source": [
        "K = np.random.random((4, 4))\n",
        "print(K)\n",
        "print(K.T)"
      ],
      "metadata": {
        "colab": {
          "base_uri": "https://localhost:8080/"
        },
        "id": "irkK7z-00VHA",
        "outputId": "14cc4397-c7dd-40a1-f49d-be89bc991de4"
      },
      "execution_count": 14,
      "outputs": [
        {
          "output_type": "stream",
          "name": "stdout",
          "text": [
            "[[0.95096432 0.86938598 0.11105045 0.96282646]\n",
            " [0.55600294 0.96062125 0.05986713 0.96269645]\n",
            " [0.10157109 0.93290188 0.60776137 0.30074621]\n",
            " [0.62527193 0.90791008 0.47133497 0.96417381]]\n",
            "[[0.95096432 0.55600294 0.10157109 0.62527193]\n",
            " [0.86938598 0.96062125 0.93290188 0.90791008]\n",
            " [0.11105045 0.05986713 0.60776137 0.47133497]\n",
            " [0.96282646 0.96269645 0.30074621 0.96417381]]\n"
          ]
        }
      ]
    },
    {
      "cell_type": "markdown",
      "source": [
        "#10. Створіть матрицю розміром 3x4 та вектор розміром 4, заповніть їх випадковими цілими числами в діапазоні від 1 до 10 та перемножте матрицю на вектор."
      ],
      "metadata": {
        "id": "IqtVU10g0bJY"
      }
    },
    {
      "cell_type": "code",
      "source": [
        "L = np.random.randint(1, 10, (3, 4))\n",
        "v = np.random.randint(1, 10, 4)\n",
        "print(L)\n",
        "print(v)\n",
        "print(np.dot(L, v))"
      ],
      "metadata": {
        "colab": {
          "base_uri": "https://localhost:8080/"
        },
        "id": "N2iDS6150lan",
        "outputId": "f59d4cf0-8f0d-41b9-e2fa-73f79d94ec96"
      },
      "execution_count": 15,
      "outputs": [
        {
          "output_type": "stream",
          "name": "stdout",
          "text": [
            "[[6 9 6 1]\n",
            " [4 7 1 4]\n",
            " [6 6 4 2]]\n",
            "[8 8 2 6]\n",
            "[138 114 116]\n"
          ]
        }
      ]
    },
    {
      "cell_type": "markdown",
      "source": [
        "# 11. Створіть матрицю розміром 2x3 та вектор розміром 3, заповніть їх випадковими дійсними числами в діапазоні від 0 до 1 та перемножте матрицю на вектор."
      ],
      "metadata": {
        "id": "IszfV-eY1L6u"
      }
    },
    {
      "cell_type": "code",
      "source": [
        "M = np.random.random((2, 3))\n",
        "v = np.random.random(3)\n",
        "print(M)\n",
        "print(v)\n",
        "print(np.dot(M, v))"
      ],
      "metadata": {
        "colab": {
          "base_uri": "https://localhost:8080/"
        },
        "id": "aZ4jzTg01UE-",
        "outputId": "6ab2162c-75ac-42eb-a5b7-0bd54cf9c2eb"
      },
      "execution_count": 16,
      "outputs": [
        {
          "output_type": "stream",
          "name": "stdout",
          "text": [
            "[[0.6493235  0.6998773  0.65664048]\n",
            " [0.73223115 0.14842565 0.08685232]]\n",
            "[0.7307871  0.56810868 0.03569847]\n",
            "[0.89556467 0.62252747]\n"
          ]
        }
      ]
    },
    {
      "cell_type": "markdown",
      "source": [
        "# 12. Створіть дві матриці розміром 2x2, заповніть їх випадковими цілими числами в діапазоні від 1 до 10 та виконайте їхнє поелементне множення."
      ],
      "metadata": {
        "id": "mqWD0-VF1yd9"
      }
    },
    {
      "cell_type": "code",
      "source": [
        "N = np.random.randint(1, 10, (2, 2))\n",
        "O = np.random.randint(1, 10, (2, 2))\n",
        "print(N)\n",
        "print(O)\n",
        "print(N*O)"
      ],
      "metadata": {
        "colab": {
          "base_uri": "https://localhost:8080/"
        },
        "id": "Yu6ZCIUk15yl",
        "outputId": "6b2bc13e-874c-4eb1-f9a0-6aa6a7d52fae"
      },
      "execution_count": 17,
      "outputs": [
        {
          "output_type": "stream",
          "name": "stdout",
          "text": [
            "[[2 9]\n",
            " [2 7]]\n",
            "[[2 4]\n",
            " [5 1]]\n",
            "[[ 4 36]\n",
            " [10  7]]\n"
          ]
        }
      ]
    },
    {
      "cell_type": "markdown",
      "source": [
        "# 13. Створіть дві матриці розміром 2x2, заповніть їх випадковими цілими числами в діапазоні від 1 до 10 та знайдіть їх добуток.\n"
      ],
      "metadata": {
        "id": "M-R8BVSl2OPE"
      }
    },
    {
      "cell_type": "code",
      "source": [
        "P = np.random.randint(1, 10, (2, 2))\n",
        "Q = np.random.randint(1, 10, (2, 2))\n",
        "print(P)\n",
        "print(Q)\n",
        "print(np.dot(P, Q))"
      ],
      "metadata": {
        "colab": {
          "base_uri": "https://localhost:8080/"
        },
        "id": "09oDHZc-2YHU",
        "outputId": "2b2cb1ca-d13c-4012-846f-eff3a9d4db28"
      },
      "execution_count": 18,
      "outputs": [
        {
          "output_type": "stream",
          "name": "stdout",
          "text": [
            "[[3 9]\n",
            " [3 5]]\n",
            "[[5 8]\n",
            " [3 9]]\n",
            "[[ 42 105]\n",
            " [ 30  69]]\n"
          ]
        }
      ]
    },
    {
      "cell_type": "markdown",
      "source": [
        "# 14. Створіть матрицю розміром 5x5, заповніть її випадковими цілими числами в діапазоні від 1 до 100 та знайдіть суму елементів матриці."
      ],
      "metadata": {
        "id": "DO1S5iHk3BxX"
      }
    },
    {
      "cell_type": "code",
      "source": [
        "R = np.random.randint(1, 100, (5, 5))\n",
        "print(R)\n",
        "print(np.sum(R))"
      ],
      "metadata": {
        "colab": {
          "base_uri": "https://localhost:8080/"
        },
        "id": "ARdnymS83Wfq",
        "outputId": "b283a627-22e3-45d7-a5f7-de8fd78f9f17"
      },
      "execution_count": 19,
      "outputs": [
        {
          "output_type": "stream",
          "name": "stdout",
          "text": [
            "[[ 7 58 30 69 69]\n",
            " [59 32 11 23 57]\n",
            " [97 67 32 66 18]\n",
            " [ 2 85 30 26 27]\n",
            " [61  6 81 99 17]]\n",
            "1129\n"
          ]
        }
      ]
    },
    {
      "cell_type": "markdown",
      "source": [
        "# 15. Створіть дві матриці розміром 4x4, заповніть їх випадковими цілими числами в діапазоні від 1 до 10 та знайдіть їхню різницю."
      ],
      "metadata": {
        "id": "2tDkJDwT3dGa"
      }
    },
    {
      "cell_type": "code",
      "source": [
        "S = np.random.randint(1, 10, (4, 4))\n",
        "T = np.random.randint(1, 10, (4, 4))\n",
        "print(S)\n",
        "print(T)\n",
        "print(S-T)"
      ],
      "metadata": {
        "colab": {
          "base_uri": "https://localhost:8080/"
        },
        "id": "xCERMJ873j-b",
        "outputId": "143c34af-3731-4d44-f639-42d98f2e0ac2"
      },
      "execution_count": 20,
      "outputs": [
        {
          "output_type": "stream",
          "name": "stdout",
          "text": [
            "[[7 7 4 9]\n",
            " [4 7 6 6]\n",
            " [7 4 4 8]\n",
            " [6 9 2 4]]\n",
            "[[1 1 8 2]\n",
            " [2 6 9 4]\n",
            " [4 7 1 7]\n",
            " [1 6 6 2]]\n",
            "[[ 6  6 -4  7]\n",
            " [ 2  1 -3  2]\n",
            " [ 3 -3  3  1]\n",
            " [ 5  3 -4  2]]\n"
          ]
        }
      ]
    },
    {
      "cell_type": "markdown",
      "source": [
        "# 16. Створіть матрицю розміром 3x3, заповніть її випадковими дійсними числами в діапазоні від 0 до 1 та знайдіть вектор-стовпчик, що містить суму елементів кожного рядка матриці."
      ],
      "metadata": {
        "id": "5WB5Umku32Zz"
      }
    },
    {
      "cell_type": "code",
      "source": [
        "U = np.random.random((3, 3))\n",
        "print(U)\n",
        "print(U.sum(axis=1))"
      ],
      "metadata": {
        "colab": {
          "base_uri": "https://localhost:8080/"
        },
        "id": "MVV5pspa4W2r",
        "outputId": "f741fad5-264f-4596-d05e-69d5e9788b3a"
      },
      "execution_count": 21,
      "outputs": [
        {
          "output_type": "stream",
          "name": "stdout",
          "text": [
            "[[0.81975328 0.46102862 0.481684  ]\n",
            " [0.30558703 0.16705588 0.36111944]\n",
            " [0.22662259 0.8048062  0.59555164]]\n",
            "[1.76246591 0.83376234 1.62698043]\n"
          ]
        }
      ]
    },
    {
      "cell_type": "markdown",
      "source": [
        "# 17. Створіть матрицю розміром 3x4 з довільними цілими числами і створінь матрицю з квадратами цих чисел."
      ],
      "metadata": {
        "id": "lsZbGv9n4e8A"
      }
    },
    {
      "cell_type": "code",
      "source": [
        "V = np.random.randint(1, 10, (3, 4))\n",
        "print(V)\n",
        "print(np.square(V))"
      ],
      "metadata": {
        "colab": {
          "base_uri": "https://localhost:8080/"
        },
        "id": "yRN6H_-K4k7J",
        "outputId": "cc2f84fe-1807-4a0e-f0cc-f25ae06b5548"
      },
      "execution_count": 22,
      "outputs": [
        {
          "output_type": "stream",
          "name": "stdout",
          "text": [
            "[[3 5 2 2]\n",
            " [5 2 8 9]\n",
            " [6 4 5 5]]\n",
            "[[ 9 25  4  4]\n",
            " [25  4 64 81]\n",
            " [36 16 25 25]]\n"
          ]
        }
      ]
    },
    {
      "cell_type": "markdown",
      "source": [
        "# 18. Створіть вектор розміром 4, заповніть його випадковими цілими числами в діапазоні від 1 до 50 та знайдіть вектор з квадратними коренями цих чисел."
      ],
      "metadata": {
        "id": "L0zEIy-M4ywh"
      }
    },
    {
      "cell_type": "code",
      "source": [
        "W = np.random.randint(1, 50, 4)\n",
        "print(W)\n",
        "print(np.sqrt(W))"
      ],
      "metadata": {
        "colab": {
          "base_uri": "https://localhost:8080/"
        },
        "id": "MFwg5ece46xB",
        "outputId": "014e41bd-a2e1-48a4-c0a7-4111538cd49f"
      },
      "execution_count": 23,
      "outputs": [
        {
          "output_type": "stream",
          "name": "stdout",
          "text": [
            "[ 5 16 38 21]\n",
            "[2.23606798 4.         6.164414   4.58257569]\n"
          ]
        }
      ]
    }
  ]
}